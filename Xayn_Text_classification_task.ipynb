{
  "cells": [
    {
      "cell_type": "code",
      "execution_count": 1,
      "metadata": {
        "id": "QbgngAI0YPJs"
      },
      "outputs": [],
      "source": [
        "import pandas as pd\n",
        "import numpy as np\n",
        "from sklearn.model_selection import train_test_split"
      ]
    },
    {
      "cell_type": "code",
      "execution_count": 3,
      "metadata": {
        "id": "3_dOClr2Y2yX"
      },
      "outputs": [],
      "source": [
        "df = pd.read_json ('news_dataset.json', lines=True)"
      ]
    },
    {
      "cell_type": "code",
      "execution_count": 4,
      "metadata": {
        "id": "MI680HkoeGbL"
      },
      "outputs": [],
      "source": [
        "df[\"label\"] = np.where(df['topic']!= 'Football', 0, 1)"
      ]
    },
    {
      "cell_type": "code",
      "execution_count": 5,
      "metadata": {
        "colab": {
          "base_uri": "https://localhost:8080/",
          "height": 206
        },
        "id": "ENwGtF03ZOv2",
        "outputId": "f1f7af7e-8328-40f6-c699-9cca848993c2"
      },
      "outputs": [
        {
          "data": {
            "text/html": [
              "<div>\n",
              "<style scoped>\n",
              "    .dataframe tbody tr th:only-of-type {\n",
              "        vertical-align: middle;\n",
              "    }\n",
              "\n",
              "    .dataframe tbody tr th {\n",
              "        vertical-align: top;\n",
              "    }\n",
              "\n",
              "    .dataframe thead th {\n",
              "        text-align: right;\n",
              "    }\n",
              "</style>\n",
              "<table border=\"1\" class=\"dataframe\">\n",
              "  <thead>\n",
              "    <tr style=\"text-align: right;\">\n",
              "      <th></th>\n",
              "      <th>name</th>\n",
              "      <th>snippet</th>\n",
              "      <th>topic</th>\n",
              "      <th>label</th>\n",
              "    </tr>\n",
              "  </thead>\n",
              "  <tbody>\n",
              "    <tr>\n",
              "      <th>0</th>\n",
              "      <td>Biden speech - live: President calls white sup...</td>\n",
              "      <td>Joe Biden is delivering his first major speech...</td>\n",
              "      <td>Other</td>\n",
              "      <td>0</td>\n",
              "    </tr>\n",
              "    <tr>\n",
              "      <th>1</th>\n",
              "      <td>Metro Nashville school board speaks out agains...</td>\n",
              "      <td>The resolution also lays down how the district...</td>\n",
              "      <td>Other</td>\n",
              "      <td>0</td>\n",
              "    </tr>\n",
              "    <tr>\n",
              "      <th>2</th>\n",
              "      <td>Amend &lt;b&gt;Corona&lt;/b&gt; App To Show Beds With Oxyg...</td>\n",
              "      <td>The Delhi High Court on Wednesday issued a num...</td>\n",
              "      <td>Corona</td>\n",
              "      <td>0</td>\n",
              "    </tr>\n",
              "    <tr>\n",
              "      <th>3</th>\n",
              "      <td>&lt;b&gt;Chess&lt;/b&gt;: Russia&amp;#39;s Nepomniachtchi to c...</td>\n",
              "      <td>Russian chess grandmaster Ian Nepomniachtchi c...</td>\n",
              "      <td>Sports</td>\n",
              "      <td>0</td>\n",
              "    </tr>\n",
              "    <tr>\n",
              "      <th>4</th>\n",
              "      <td>World &lt;b&gt;Athletics&lt;/b&gt; Relays: who, what and w...</td>\n",
              "      <td>Major withdrawals have hit this weekend’s Worl...</td>\n",
              "      <td>Sports</td>\n",
              "      <td>0</td>\n",
              "    </tr>\n",
              "  </tbody>\n",
              "</table>\n",
              "</div>"
            ],
            "text/plain": [
              "                                                name  ... label\n",
              "0  Biden speech - live: President calls white sup...  ...     0\n",
              "1  Metro Nashville school board speaks out agains...  ...     0\n",
              "2  Amend <b>Corona</b> App To Show Beds With Oxyg...  ...     0\n",
              "3  <b>Chess</b>: Russia&#39;s Nepomniachtchi to c...  ...     0\n",
              "4  World <b>Athletics</b> Relays: who, what and w...  ...     0\n",
              "\n",
              "[5 rows x 4 columns]"
            ]
          },
          "execution_count": 5,
          "metadata": {},
          "output_type": "execute_result"
        }
      ],
      "source": [
        "df.head()"
      ]
    },
    {
      "cell_type": "markdown",
      "metadata": {
        "id": "JjOLt4-WdfB8"
      },
      "source": [
        "Exploratory Data Analysis (EDA)"
      ]
    },
    {
      "cell_type": "code",
      "execution_count": 6,
      "metadata": {
        "id": "3uhcl-pXdNZn"
      },
      "outputs": [],
      "source": [
        "def visualize(attribute):\n",
        "  groups = df.groupby(attribute)\n",
        "  counts = groups.size()\n",
        "  import matplotlib.pyplot as plt\n",
        "  %matplotlib inline\n",
        "  from matplotlib.pyplot import figure\n",
        "\n",
        "  figure(figsize=(10, 6), dpi=80)\n",
        "  counts.plot(kind='bar')\n",
        "  plt.xlabel(attribute)\n",
        "  plt.ylabel('Number of Comments')\n",
        "  plt.title('Number of comments per '+attribute)"
      ]
    },
    {
      "cell_type": "code",
      "execution_count": 7,
      "metadata": {
        "colab": {
          "base_uri": "https://localhost:8080/",
          "height": 504
        },
        "id": "ii-r2uUudZkf",
        "outputId": "78921110-f936-4922-9af5-843d82422e3f"
      },
      "outputs": [
        {
          "data": {
            "image/png": "[encoded data removed]",
            "text/plain": [
              "<Figure size 800x480 with 1 Axes>"
            ]
          },
          "metadata": {
            "needs_background": "light"
          },
          "output_type": "display_data"
        }
      ],
      "source": [
        "visualize('topic')"
      ]
    },
    {
      "cell_type": "markdown",
      "metadata": {
        "id": "1mapspJ7w1pu"
      },
      "source": [
        "\"Other\" topic is the most frequent one. \"football\" is the least frquent one. -I see you're trying to please the CEO- \n",
        "This gives us an insight on the distributivity of the data and the topics available in the dataset"
      ]
    },
    {
      "cell_type": "code",
      "execution_count": 8,
      "metadata": {
        "colab": {
          "base_uri": "https://localhost:8080/",
          "height": 441
        },
        "id": "p3dxkk2DfTmt",
        "outputId": "8061e4e8-291f-4c76-fafa-3c039f5f808a"
      },
      "outputs": [
        {
          "data": {
            "image/png": "[encoded data removed]",
            "text/plain": [
              "<Figure size 800x480 with 1 Axes>"
            ]
          },
          "metadata": {
            "needs_background": "light"
          },
          "output_type": "display_data"
        }
      ],
      "source": [
        "visualize('label')"
      ]
    },
    {
      "cell_type": "markdown",
      "metadata": {
        "id": "_Wfr16e8xXLx"
      },
      "source": [
        "It's clear now that the data is not well balanced and this may cause some problems with the model."
      ]
    },
    {
      "cell_type": "code",
      "execution_count": 9,
      "metadata": {
        "colab": {
          "base_uri": "https://localhost:8080/"
        },
        "id": "7e1mhJvSoeC_",
        "outputId": "edca90c4-1c41-4c2f-c78b-a8b1f4581f4a"
      },
      "outputs": [
        {
          "name": "stdout",
          "output_type": "stream",
          "text": [
            "max snippet length 435\n",
            "min snippet length 14\n"
          ]
        }
      ],
      "source": [
        "print(\"max snippet length\" , df[\"snippet\"].str.len().max())\n",
        "print(\"min snippet length\", df[\"snippet\"].str.len().min())"
      ]
    },
    {
      "cell_type": "code",
      "execution_count": 10,
      "metadata": {
        "id": "W9R0Exhebl-m"
      },
      "outputs": [],
      "source": [
        "import wordcloud"
      ]
    },
    {
      "cell_type": "code",
      "execution_count": 11,
      "metadata": {
        "colab": {
          "base_uri": "https://localhost:8080/",
          "height": 217
        },
        "id": "TEskZfdqh5Dn",
        "outputId": "2d0884df-69f8-4e19-9fdc-4ef6e38077f0"
      },
      "outputs": [
        {
          "data": {
            "image/png": "[encoded data removed]",
            "text/plain": [
              "<PIL.Image.Image image mode=RGB size=400x200 at 0x7F28B1B51450>"
            ]
          },
          "execution_count": 11,
          "metadata": {},
          "output_type": "execute_result"
        }
      ],
      "source": [
        "#most used words in the snippets\n",
        "long_string = \" \".join(df[\"snippet\"])\n",
        "_wordcloud = wordcloud.WordCloud()\n",
        "_wordcloud.generate(long_string)\n",
        "_wordcloud.to_image()"
      ]
    },
    {
      "cell_type": "markdown",
      "metadata": {
        "id": "9QO73AgEyYjL"
      },
      "source": [
        "Though this doesn't provide much insight in this situation, we can still have some idea about the words used in the snippets"
      ]
    },
    {
      "cell_type": "markdown",
      "metadata": {
        "id": "bTzmMxYriUcl"
      },
      "source": [
        "Preprocessing the data \\n \n",
        "\n",
        "\n",
        "1.   Removing ponctuation: ponctuation does not change anything in the topic of the snippet.\n",
        "2.   Transforming to lowercase: Just like any other data case, we would like to have our data normalized and in this case we do it by lowercasing the words. This way, there's no difference between \"the\" and \"The\". They are the same word.\n",
        "3. Removing stop words: Stop words are very frequent, and have no impact on the meaning of the snippet. Their frequency can impact the model learning though. This is why we should remove them.\n",
        "4. Stemming:  Stemming is used so that all the words with the same origin are understood and considered as the same word.\n",
        "\n"
      ]
    },
    {
      "cell_type": "code",
      "execution_count": 12,
      "metadata": {
        "id": "sg0kSJBGgq8q"
      },
      "outputs": [],
      "source": [
        "import re\n",
        "# Remove punctuation\n",
        "df['snippet'] = df['snippet'].map(lambda x: re.sub('[,\\.!?]', '', x))\n",
        "# Lowercase the words\n",
        "df['snippet'] = df['snippet'].map(lambda x: x.lower())"
      ]
    },
    {
      "cell_type": "code",
      "execution_count": 13,
      "metadata": {
        "colab": {
          "base_uri": "https://localhost:8080/"
        },
        "id": "XpLgHJ3OimsB",
        "outputId": "fa136438-e71a-4457-8692-396912e434df"
      },
      "outputs": [
        {
          "name": "stdout",
          "output_type": "stream",
          "text": [
            "[nltk_data] Downloading package stopwords to /root/nltk_data...\n",
            "[nltk_data]   Unzipping corpora/stopwords.zip.\n"
          ]
        }
      ],
      "source": [
        "# Removing stop words from comments\n",
        "import nltk\n",
        "nltk.download(\"stopwords\")\n",
        "from nltk.corpus import stopwords\n",
        "stop = stopwords.words('english')\n",
        "\n",
        "df['snippet'] = df['snippet'].apply(lambda x: ' '.join([word for word in x.split() if word not in (stop)]))"
      ]
    },
    {
      "cell_type": "code",
      "execution_count": 14,
      "metadata": {
        "id": "Ib4R6Dv3jKeh"
      },
      "outputs": [],
      "source": [
        "#Stemming\n",
        "from nltk.stem.snowball import SnowballStemmer\n",
        "stemmer = SnowballStemmer(\"english\")\n",
        "df[\"snippet\"] = df[\"snippet\"].apply(lambda x: ' '.join(stemmer.stem(y) for y in x.split()))"
      ]
    },
    {
      "cell_type": "code",
      "execution_count": 15,
      "metadata": {
        "colab": {
          "base_uri": "https://localhost:8080/",
          "height": 206
        },
        "id": "tFLwsMbriJHG",
        "outputId": "784187f4-8470-4e53-aed5-fb4fc8689261"
      },
      "outputs": [
        {
          "data": {
            "text/html": [
              "<div>\n",
              "<style scoped>\n",
              "    .dataframe tbody tr th:only-of-type {\n",
              "        vertical-align: middle;\n",
              "    }\n",
              "\n",
              "    .dataframe tbody tr th {\n",
              "        vertical-align: top;\n",
              "    }\n",
              "\n",
              "    .dataframe thead th {\n",
              "        text-align: right;\n",
              "    }\n",
              "</style>\n",
              "<table border=\"1\" class=\"dataframe\">\n",
              "  <thead>\n",
              "    <tr style=\"text-align: right;\">\n",
              "      <th></th>\n",
              "      <th>name</th>\n",
              "      <th>snippet</th>\n",
              "      <th>topic</th>\n",
              "      <th>label</th>\n",
              "    </tr>\n",
              "  </thead>\n",
              "  <tbody>\n",
              "    <tr>\n",
              "      <th>0</th>\n",
              "      <td>Biden speech - live: President calls white sup...</td>\n",
              "      <td>joe biden deliv first major speech congress fo...</td>\n",
              "      <td>Other</td>\n",
              "      <td>0</td>\n",
              "    </tr>\n",
              "    <tr>\n",
              "      <th>1</th>\n",
              "      <td>Metro Nashville school board speaks out agains...</td>\n",
              "      <td>resolut also lay district board advoc student ...</td>\n",
              "      <td>Other</td>\n",
              "      <td>0</td>\n",
              "    </tr>\n",
              "    <tr>\n",
              "      <th>2</th>\n",
              "      <td>Amend &lt;b&gt;Corona&lt;/b&gt; App To Show Beds With Oxyg...</td>\n",
              "      <td>delhi high court wednesday issu number direct ...</td>\n",
              "      <td>Corona</td>\n",
              "      <td>0</td>\n",
              "    </tr>\n",
              "    <tr>\n",
              "      <th>3</th>\n",
              "      <td>&lt;b&gt;Chess&lt;/b&gt;: Russia&amp;#39;s Nepomniachtchi to c...</td>\n",
              "      <td>russian chess grandmast ian nepomniachtchi cli...</td>\n",
              "      <td>Sports</td>\n",
              "      <td>0</td>\n",
              "    </tr>\n",
              "    <tr>\n",
              "      <th>4</th>\n",
              "      <td>World &lt;b&gt;Athletics&lt;/b&gt; Relays: who, what and w...</td>\n",
              "      <td>major withdraw hit weekend world relay poland ...</td>\n",
              "      <td>Sports</td>\n",
              "      <td>0</td>\n",
              "    </tr>\n",
              "  </tbody>\n",
              "</table>\n",
              "</div>"
            ],
            "text/plain": [
              "                                                name  ... label\n",
              "0  Biden speech - live: President calls white sup...  ...     0\n",
              "1  Metro Nashville school board speaks out agains...  ...     0\n",
              "2  Amend <b>Corona</b> App To Show Beds With Oxyg...  ...     0\n",
              "3  <b>Chess</b>: Russia&#39;s Nepomniachtchi to c...  ...     0\n",
              "4  World <b>Athletics</b> Relays: who, what and w...  ...     0\n",
              "\n",
              "[5 rows x 4 columns]"
            ]
          },
          "execution_count": 15,
          "metadata": {},
          "output_type": "execute_result"
        }
      ],
      "source": [
        "df.head()"
      ]
    },
    {
      "cell_type": "markdown",
      "metadata": {
        "id": "F1BgGsMdbUxM"
      },
      "source": [
        "# Modeling"
      ]
    },
    {
      "cell_type": "markdown",
      "metadata": {
        "id": "3mdkwU9608NY"
      },
      "source": [
        "I chose to go with a Deep Learning architecture which is LSTM in this case. We can also use Naive Bayes."
      ]
    },
    {
      "cell_type": "markdown",
      "metadata": {
        "id": "O37XU1iQA7q8"
      },
      "source": [
        "## **Naive Bayes**\n"
      ]
    },
    {
      "cell_type": "code",
      "execution_count": 16,
      "metadata": {
        "id": "C2RKvLXj4KVU"
      },
      "outputs": [],
      "source": [
        "from sklearn.feature_extraction.text import TfidfVectorizer\n",
        "from sklearn.naive_bayes import MultinomialNB\n",
        "from sklearn.pipeline import make_pipeline\n",
        "from sklearn.metrics import confusion_matrix, accuracy_score\n"
      ]
    },
    {
      "cell_type": "code",
      "execution_count": 21,
      "metadata": {
        "colab": {
          "base_uri": "https://localhost:8080/"
        },
        "id": "loaM2Dn47F3p",
        "outputId": "74ed13a5-5bf8-4849-90f0-6e921f7dd87c"
      },
      "outputs": [
        {
          "data": {
            "text/plain": [
              "(481,)"
            ]
          },
          "execution_count": 21,
          "metadata": {},
          "output_type": "execute_result"
        }
      ],
      "source": [
        "x_train, x_valid, y_train, y_valid = train_test_split(df[\"snippet\"],\n",
        "                                                    df[\"label\"],\n",
        "                                                    train_size=0.8,\n",
        "                                                    random_state=42,\n",
        "                                                    )\n",
        "x_train.shape"
      ]
    },
    {
      "cell_type": "code",
      "execution_count": 22,
      "metadata": {
        "id": "O2EHb8Qw5wy5"
      },
      "outputs": [],
      "source": [
        "\n",
        "# Build the model\n",
        "model = make_pipeline(TfidfVectorizer(), MultinomialNB())\n",
        "# Train the model using the training data\n",
        "model.fit(x_train, y_train)\n",
        "# Predict the categories of the test data\n",
        "predicted_categories = model.predict(x_valid)"
      ]
    },
    {
      "cell_type": "code",
      "execution_count": 23,
      "metadata": {
        "colab": {
          "base_uri": "https://localhost:8080/"
        },
        "id": "KN_7_tkI6L_a",
        "outputId": "9b3dd0a5-377e-47c9-8936-5bceb19ad5a9"
      },
      "outputs": [
        {
          "data": {
            "text/plain": [
              "array([0, 0, 0, 0, 0, 0, 0, 0, 0, 0, 0, 0, 0, 0, 0, 0, 0, 0, 0, 0, 0, 0,\n",
              "       0, 0, 0, 0, 0, 0, 0, 0, 0, 0, 0, 0, 0, 0, 0, 0, 0, 0, 0, 0, 0, 0,\n",
              "       0, 0, 0, 0, 0, 0, 0, 0, 0, 0, 0, 0, 0, 0, 0, 0, 0, 0, 0, 0, 0, 0,\n",
              "       0, 0, 0, 0, 0, 0, 0, 0, 0, 0, 0, 0, 0, 0, 0, 0, 0, 0, 0, 0, 0, 0,\n",
              "       0, 0, 0, 0, 0, 0, 0, 0, 0, 0, 0, 0, 0, 0, 0, 0, 0, 0, 0, 0, 0, 0,\n",
              "       0, 0, 0, 0, 0, 0, 0, 0, 0, 0, 0])"
            ]
          },
          "execution_count": 23,
          "metadata": {},
          "output_type": "execute_result"
        }
      ],
      "source": [
        "predicted_categories"
      ]
    },
    {
      "cell_type": "code",
      "execution_count": 24,
      "metadata": {
        "colab": {
          "base_uri": "https://localhost:8080/"
        },
        "id": "N2DGXxRk90QL",
        "outputId": "6676b2cd-7104-4e03-d304-f023e150a426"
      },
      "outputs": [
        {
          "data": {
            "text/plain": [
              "0    111\n",
              "1     10\n",
              "Name: label, dtype: int64"
            ]
          },
          "execution_count": 24,
          "metadata": {},
          "output_type": "execute_result"
        }
      ],
      "source": [
        "y_valid.value_counts()"
      ]
    },
    {
      "cell_type": "code",
      "execution_count": 25,
      "metadata": {
        "colab": {
          "base_uri": "https://localhost:8080/"
        },
        "id": "HVlI_92K917P",
        "outputId": "eaad424d-01a1-458f-abbe-6d7dd2563c46"
      },
      "outputs": [
        {
          "data": {
            "text/plain": [
              "array([[111,   0],\n",
              "       [ 10,   0]])"
            ]
          },
          "execution_count": 25,
          "metadata": {},
          "output_type": "execute_result"
        }
      ],
      "source": [
        "# plot the confusion matrix\n",
        "confusion_matrix(y_valid, predicted_categories)"
      ]
    },
    {
      "cell_type": "code",
      "execution_count": 26,
      "metadata": {
        "colab": {
          "base_uri": "https://localhost:8080/"
        },
        "id": "L4pR6R6Q_xCO",
        "outputId": "f497131b-3074-423f-acbc-862a0c3ea72b"
      },
      "outputs": [
        {
          "name": "stdout",
          "output_type": "stream",
          "text": [
            "The accuracy is 0.9173553719008265\n"
          ]
        }
      ],
      "source": [
        "print(\"The accuracy is {}\".format(accuracy_score(y_valid, predicted_categories)))"
      ]
    },
    {
      "cell_type": "markdown",
      "metadata": {
        "id": "zNGuq_3WAj3y"
      },
      "source": [
        "The accuracy may seem convinving but all the predicted values are 0. Which is not a reliable solution. This problem is probably due to the dataset being not balanced."
      ]
    },
    {
      "cell_type": "code",
      "execution_count": null,
      "metadata": {
        "colab": {
          "base_uri": "https://localhost:8080/"
        },
        "id": "GmFIHpb2ASeF",
        "outputId": "a7f4ccee-12d1-4645-eaf6-00aad58da6b4"
      },
      "outputs": [
        {
          "data": {
            "text/plain": [
              "0    513\n",
              "1     28\n",
              "Name: label, dtype: int64"
            ]
          },
          "execution_count": 23,
          "metadata": {},
          "output_type": "execute_result"
        }
      ],
      "source": [
        "y_train.value_counts()"
      ]
    },
    {
      "cell_type": "markdown",
      "metadata": {
        "id": "B_b4IKbgAD7w"
      },
      "source": [
        "## **Recurrent Neural Networks: LSTM**\n"
      ]
    },
    {
      "cell_type": "code",
      "execution_count": 27,
      "metadata": {
        "id": "5CqSmU5fDKtV"
      },
      "outputs": [],
      "source": [
        "(train_texts, valid_texts, train_labels, valid_labels) = train_test_split(list(df[\"snippet\"]), list(df[\"label\"]), test_size=0.1, random_state=42)"
      ]
    },
    {
      "cell_type": "code",
      "execution_count": 28,
      "metadata": {
        "id": "Jcrm1X4aAGwK"
      },
      "outputs": [],
      "source": [
        "max_words = 10000\n",
        "max_len = 350\n",
        "epochs = 6\n",
        "batch_size = 5"
      ]
    },
    {
      "cell_type": "code",
      "execution_count": 29,
      "metadata": {
        "id": "uzqCFqUcCaaw"
      },
      "outputs": [],
      "source": [
        "from tensorflow.keras.preprocessing.text import Tokenizer\n",
        "from tensorflow.keras.preprocessing.sequence import pad_sequences"
      ]
    },
    {
      "cell_type": "code",
      "execution_count": 30,
      "metadata": {
        "id": "HtAthZKpAGyl"
      },
      "outputs": [],
      "source": [
        "tokenizer = Tokenizer(num_words=max_words)\n",
        "tokenizer.fit_on_texts(train_texts)"
      ]
    },
    {
      "cell_type": "code",
      "execution_count": 31,
      "metadata": {
        "id": "6Brps4B6LyKX"
      },
      "outputs": [],
      "source": [
        "# Tokenize and pad data\n",
        "sequences = tokenizer.texts_to_sequences(df[\"snippet\"])\n",
        "x = pad_sequences(sequences, maxlen=max_len)"
      ]
    },
    {
      "cell_type": "code",
      "execution_count": 32,
      "metadata": {
        "colab": {
          "base_uri": "https://localhost:8080/"
        },
        "id": "4Ja6FCdcMoAC",
        "outputId": "dfe02c98-4ef2-4eaa-fded-c686f8a06e72"
      },
      "outputs": [
        {
          "data": {
            "text/plain": [
              "(541, 350)"
            ]
          },
          "execution_count": 32,
          "metadata": {},
          "output_type": "execute_result"
        }
      ],
      "source": [
        "x_train, x_valid, y_train, y_valid = train_test_split(x,\n",
        "                                                    df[\"label\"],\n",
        "                                                    train_size=0.9,\n",
        "                                                    random_state=42,\n",
        "                                                    )\n",
        "x_train.shape"
      ]
    },
    {
      "cell_type": "code",
      "execution_count": 33,
      "metadata": {
        "colab": {
          "base_uri": "https://localhost:8080/"
        },
        "id": "jEVvw5eEhlS8",
        "outputId": "244102f6-2da7-4bac-f82c-8dfa11ed92eb"
      },
      "outputs": [
        {
          "data": {
            "text/plain": [
              "0    513\n",
              "1     28\n",
              "Name: label, dtype: int64"
            ]
          },
          "execution_count": 33,
          "metadata": {},
          "output_type": "execute_result"
        }
      ],
      "source": [
        "y_train.value_counts()"
      ]
    },
    {
      "cell_type": "markdown",
      "metadata": {
        "id": "u3xA97nphppf"
      },
      "source": [
        "Data is not balanced, this is why we will be balancing it by oversampling the training dataset."
      ]
    },
    {
      "cell_type": "code",
      "execution_count": 34,
      "metadata": {
        "colab": {
          "base_uri": "https://localhost:8080/"
        },
        "id": "snI9PhZ-b4SA",
        "outputId": "5d7c4278-4f45-4d6f-e43d-6b5970faafae"
      },
      "outputs": [
        {
          "data": {
            "text/plain": [
              "1    513\n",
              "0    513\n",
              "Name: label, dtype: int64"
            ]
          },
          "execution_count": 34,
          "metadata": {},
          "output_type": "execute_result"
        }
      ],
      "source": [
        "from imblearn.over_sampling import RandomOverSampler\n",
        "over_sampler = RandomOverSampler(random_state=42)\n",
        "X_res, y_res = over_sampler.fit_resample(x_train, y_train)\n",
        "y_res.value_counts()"
      ]
    },
    {
      "cell_type": "code",
      "execution_count": 35,
      "metadata": {
        "id": "Hc7mmefrAG06"
      },
      "outputs": [],
      "source": [
        "from tensorflow.keras.layers import Dense, Embedding, LSTM, Dropout\n",
        "from tensorflow.keras.callbacks import ModelCheckpoint\n",
        "from tensorflow.keras.models import Sequential"
      ]
    },
    {
      "cell_type": "code",
      "execution_count": 44,
      "metadata": {
        "id": "QGs-ICfbFlPY"
      },
      "outputs": [],
      "source": [
        "model = Sequential()\n",
        "model.add(Embedding(max_words, 12, input_length=max_len))\n",
        "model.add(LSTM(6))\n",
        "model.add(Dense(1, activation='sigmoid'))\n",
        "model.compile(optimizer='adam',\n",
        "              loss='binary_crossentropy',\n",
        "              metrics='accuracy')"
      ]
    },
    {
      "cell_type": "code",
      "execution_count": 45,
      "metadata": {
        "id": "PwkLYIZkFlR7"
      },
      "outputs": [],
      "source": [
        "checkpoint_callback_lstm = ModelCheckpoint('./results/lstm',\n",
        "                                                   monitor='val_accuracy',\n",
        "                                                   save_best_only=True,\n",
        "                                                   verbose=1)"
      ]
    },
    {
      "cell_type": "code",
      "execution_count": 46,
      "metadata": {
        "colab": {
          "base_uri": "https://localhost:8080/"
        },
        "id": "vab88A3KLWwY",
        "outputId": "6d150546-b984-4cfc-9437-de43bbc2052c"
      },
      "outputs": [
        {
          "name": "stdout",
          "output_type": "stream",
          "text": [
            "Epoch 1/6\n",
            "206/206 [==============================] - ETA: 0s - loss: 0.4193 - accuracy: 0.9133\n",
            "Epoch 00001: val_accuracy improved from -inf to 1.00000, saving model to ./results/lstm\n"
          ]
        },
        {
          "name": "stderr",
          "output_type": "stream",
          "text": [
            "WARNING:absl:Found untraced functions such as lstm_cell_2_layer_call_fn, lstm_cell_2_layer_call_and_return_conditional_losses, lstm_cell_2_layer_call_fn, lstm_cell_2_layer_call_and_return_conditional_losses, lstm_cell_2_layer_call_and_return_conditional_losses while saving (showing 5 of 5). These functions will not be directly callable after loading.\n"
          ]
        },
        {
          "name": "stdout",
          "output_type": "stream",
          "text": [
            "INFO:tensorflow:Assets written to: ./results/lstm/assets\n"
          ]
        },
        {
          "name": "stderr",
          "output_type": "stream",
          "text": [
            "INFO:tensorflow:Assets written to: ./results/lstm/assets\n",
            "WARNING:absl:<keras.layers.recurrent.LSTMCell object at 0x7f27c74a6fd0> has the same name 'LSTMCell' as a built-in Keras object. Consider renaming <class 'keras.layers.recurrent.LSTMCell'> to avoid naming conflicts when loading with `tf.keras.models.load_model`. If renaming is not possible, pass the object in the `custom_objects` parameter of the load function.\n"
          ]
        },
        {
          "name": "stdout",
          "output_type": "stream",
          "text": [
            "206/206 [==============================] - 18s 79ms/step - loss: 0.4193 - accuracy: 0.9133 - val_loss: 0.2032 - val_accuracy: 1.0000\n",
            "Epoch 2/6\n",
            "205/206 [============================>.] - ETA: 0s - loss: 0.0959 - accuracy: 1.0000\n",
            "Epoch 00002: val_accuracy did not improve from 1.00000\n",
            "206/206 [==============================] - 10s 48ms/step - loss: 0.0959 - accuracy: 1.0000 - val_loss: 0.0913 - val_accuracy: 1.0000\n",
            "Epoch 3/6\n",
            "205/206 [============================>.] - ETA: 0s - loss: 0.0426 - accuracy: 1.0000\n",
            "Epoch 00003: val_accuracy did not improve from 1.00000\n",
            "206/206 [==============================] - 10s 48ms/step - loss: 0.0426 - accuracy: 1.0000 - val_loss: 0.0450 - val_accuracy: 1.0000\n",
            "Epoch 4/6\n",
            "205/206 [============================>.] - ETA: 0s - loss: 0.0233 - accuracy: 1.0000\n",
            "Epoch 00004: val_accuracy did not improve from 1.00000\n",
            "206/206 [==============================] - 10s 48ms/step - loss: 0.0233 - accuracy: 1.0000 - val_loss: 0.0263 - val_accuracy: 1.0000\n",
            "Epoch 5/6\n",
            "206/206 [==============================] - ETA: 0s - loss: 0.0142 - accuracy: 1.0000\n",
            "Epoch 00005: val_accuracy did not improve from 1.00000\n",
            "206/206 [==============================] - 10s 49ms/step - loss: 0.0142 - accuracy: 1.0000 - val_loss: 0.0166 - val_accuracy: 1.0000\n",
            "Epoch 6/6\n",
            "205/206 [============================>.] - ETA: 0s - loss: 0.0093 - accuracy: 1.0000\n",
            "Epoch 00006: val_accuracy did not improve from 1.00000\n",
            "206/206 [==============================] - 10s 48ms/step - loss: 0.0093 - accuracy: 1.0000 - val_loss: 0.0112 - val_accuracy: 1.0000\n"
          ]
        }
      ],
      "source": [
        " history_lstm = model.fit((X_res),\n",
        "                                 np.array(y_res),\n",
        "                                 epochs=epochs,\n",
        "                                 batch_size=batch_size,\n",
        "                                 validation_data=(x_valid, np.array(y_valid)),\n",
        "                                 callbacks=[checkpoint_callback_lstm])"
      ]
    },
    {
      "cell_type": "markdown",
      "metadata": {
        "id": "yWPPs6pz1CtD"
      },
      "source": [
        "LSTM Inference"
      ]
    },
    {
      "cell_type": "code",
      "execution_count": 47,
      "metadata": {
        "id": "lDmwZfkO1CQ1"
      },
      "outputs": [],
      "source": [
        "def get_prediction_lstm(input_text):\n",
        "    text_sequences = tokenizer.texts_to_sequences([input_text])\n",
        "    text_sequences = pad_sequences(text_sequences, maxlen=max_len)\n",
        "    result = model.predict(text_sequences)\n",
        "    return np.where(result > 0.5, \"Dislike\", \"Like\")[0][0]"
      ]
    },
    {
      "cell_type": "code",
      "execution_count": 48,
      "metadata": {
        "colab": {
          "base_uri": "https://localhost:8080/",
          "height": 35
        },
        "id": "DhUeB5ZLrb6S",
        "outputId": "72710516-f809-48ba-8e0e-ff32404cd236"
      },
      "outputs": [
        {
          "data": {
            "application/vnd.google.colaboratory.intrinsic+json": {
              "type": "string"
            },
            "text/plain": [
              "'Dislike'"
            ]
          },
          "execution_count": 48,
          "metadata": {},
          "output_type": "execute_result"
        }
      ],
      "source": [
        "get_prediction_lstm(df['snippet'][df['label']==1][12])"
      ]
    },
    {
      "cell_type": "code",
      "execution_count": 49,
      "metadata": {
        "colab": {
          "base_uri": "https://localhost:8080/",
          "height": 35
        },
        "id": "qpWgnVYpdXNP",
        "outputId": "2d6f6f46-3273-41ea-9481-db9721e4b548"
      },
      "outputs": [
        {
          "data": {
            "application/vnd.google.colaboratory.intrinsic+json": {
              "type": "string"
            },
            "text/plain": [
              "'Like'"
            ]
          },
          "execution_count": 49,
          "metadata": {},
          "output_type": "execute_result"
        }
      ],
      "source": [
        "get_prediction_lstm(df['snippet'][df['label']==0][601])"
      ]
    },
    {
      "cell_type": "code",
      "execution_count": 50,
      "metadata": {
        "id": "Pq4hpksxdZtu"
      },
      "outputs": [],
      "source": [
        "input_text=valid_texts[20]"
      ]
    },
    {
      "cell_type": "code",
      "execution_count": 51,
      "metadata": {
        "id": "4kEWSj6wdlgA"
      },
      "outputs": [],
      "source": [
        "input_text= ' '.join([word for word in input_text.split() if word not in (stop)])\n",
        "input_text= ' '.join(stemmer.stem(y) for y in input_text.split(' '))"
      ]
    },
    {
      "cell_type": "code",
      "execution_count": 52,
      "metadata": {
        "colab": {
          "base_uri": "https://localhost:8080/"
        },
        "id": "1onqAr0JhIJp",
        "outputId": "58e6a3a3-13e4-4df7-9d71-29f9198927f5"
      },
      "outputs": [
        {
          "name": "stdout",
          "output_type": "stream",
          "text": [
            "delhi high court wednesday issu number direct categori bed delhi corona mobil app set helplin number delay test shortag rtpcr test kit\n"
          ]
        }
      ],
      "source": [
        "print(input_text)"
      ]
    },
    {
      "cell_type": "code",
      "execution_count": 53,
      "metadata": {
        "colab": {
          "base_uri": "https://localhost:8080/"
        },
        "id": "JLESO7IrdndT",
        "outputId": "42414c73-433e-44ab-b128-084217c22904"
      },
      "outputs": [
        {
          "name": "stdout",
          "output_type": "stream",
          "text": [
            "Like\n"
          ]
        }
      ],
      "source": [
        "print(get_prediction_lstm(input_text))"
      ]
    },
    {
      "cell_type": "code",
      "execution_count": 54,
      "metadata": {
        "colab": {
          "base_uri": "https://localhost:8080/"
        },
        "id": "gRrHGiGvd5Pu",
        "outputId": "dfd9a26d-7696-4753-a758-4af1095582eb"
      },
      "outputs": [
        {
          "data": {
            "text/plain": [
              "0"
            ]
          },
          "execution_count": 54,
          "metadata": {},
          "output_type": "execute_result"
        }
      ],
      "source": [
        "valid_labels[20]"
      ]
    },
    {
      "cell_type": "code",
      "execution_count": 55,
      "metadata": {
        "id": "GwyrN-P_eNPF"
      },
      "outputs": [],
      "source": [
        "input_text=\"football player Leo Messi has one his first match after a long time of not scoring\""
      ]
    },
    {
      "cell_type": "code",
      "execution_count": 56,
      "metadata": {
        "id": "Fg9fyoX8gjQN"
      },
      "outputs": [],
      "source": [
        "input_text= ' '.join([word for word in input_text.split() if word not in (stop)])\n",
        "input_text= ' '.join(stemmer.stem(y) for y in input_text.split(' '))"
      ]
    },
    {
      "cell_type": "code",
      "execution_count": 57,
      "metadata": {
        "colab": {
          "base_uri": "https://localhost:8080/"
        },
        "id": "FBW5XqKzgkjA",
        "outputId": "e3e11490-30a8-4ee2-9a0f-e8d9720f0a98"
      },
      "outputs": [
        {
          "name": "stdout",
          "output_type": "stream",
          "text": [
            "Like\n"
          ]
        }
      ],
      "source": [
        "print(get_prediction_lstm(input_text))"
      ]
    },
    {
      "cell_type": "code",
      "execution_count": 58,
      "metadata": {
        "id": "EjsS0DZagmXL"
      },
      "outputs": [],
      "source": [
        "input_text=\"A new COVID 19 variant has emerged. Corona is real. be safe\""
      ]
    },
    {
      "cell_type": "code",
      "execution_count": 59,
      "metadata": {
        "id": "ntAFVABZg4mr"
      },
      "outputs": [],
      "source": [
        "input_text= ' '.join([word for word in input_text.split() if word not in (stop)])\n",
        "input_text= ' '.join(stemmer.stem(y) for y in input_text.split(' '))"
      ]
    },
    {
      "cell_type": "code",
      "execution_count": 60,
      "metadata": {
        "colab": {
          "base_uri": "https://localhost:8080/"
        },
        "id": "nBuGK3Lcg5wO",
        "outputId": "b5d4aef1-cefd-46c3-95e0-2139844c1001"
      },
      "outputs": [
        {
          "name": "stdout",
          "output_type": "stream",
          "text": [
            "Like\n"
          ]
        }
      ],
      "source": [
        "print(get_prediction_lstm(input_text))"
      ]
    },
    {
      "cell_type": "code",
      "execution_count": null,
      "metadata": {
        "id": "wAmHNWU3AZwO"
      },
      "outputs": [],
      "source": []
    }
  ],
  "metadata": {
    "accelerator": "GPU",
    "colab": {
      "collapsed_sections": [],
      "name": "Xayn_Text classification task.ipynb",
      "provenance": []
    },
    "kernelspec": {
      "display_name": "Python 3",
      "name": "python3"
    },
    "language_info": {
      "name": "python"
    }
  },
  "nbformat": 4,
  "nbformat_minor": 0
}
